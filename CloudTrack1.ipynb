{
  "nbformat": 4,
  "nbformat_minor": 0,
  "metadata": {
    "colab": {
      "provenance": [],
      "authorship_tag": "ABX9TyO8vqCntKAuN8uVEXD+fX7f",
      "include_colab_link": true
    },
    "kernelspec": {
      "name": "python3",
      "display_name": "Python 3"
    },
    "language_info": {
      "name": "python"
    }
  },
  "cells": [
    {
      "cell_type": "markdown",
      "metadata": {
        "id": "view-in-github",
        "colab_type": "text"
      },
      "source": [
        "<a href=\"https://colab.research.google.com/github/Ochola-Dan/FirstRepo/blob/master/CloudTrack1.ipynb\" target=\"_parent\"><img src=\"https://colab.research.google.com/assets/colab-badge.svg\" alt=\"Open In Colab\"/></a>"
      ]
    },
    {
      "cell_type": "markdown",
      "source": [
        "1 a)Import numpy; Print (numpy.version.version) #numpy version\n",
        "   Import pandas as pd; print (pd.__version__) #numpy version"
      ],
      "metadata": {
        "id": "CL2didkyqhjL"
      }
    },
    {
      "cell_type": "code",
      "execution_count": 4,
      "metadata": {
        "colab": {
          "base_uri": "https://localhost:8080/"
        },
        "id": "UdcMsgEFQl7e",
        "outputId": "a37aa123-c882-4e1c-e495-7dc0670714c7"
      },
      "outputs": [
        {
          "output_type": "stream",
          "name": "stdout",
          "text": [
            "1.23.5\n",
            "1.5.3\n"
          ]
        }
      ],
      "source": [
        "import numpy\n",
        "print(numpy.version.version)\n",
        "import pandas as pd\n",
        "print(pd.__version__)"
      ]
    },
    {
      "cell_type": "markdown",
      "source": [
        "2) Write a program to print 'Hello HCIA PDTP-Huawei Team’"
      ],
      "metadata": {
        "id": "QumFh4hmDYX2"
      }
    },
    {
      "cell_type": "code",
      "source": [
        "print('Hello HCIA PDTP-Huawei Team')"
      ],
      "metadata": {
        "colab": {
          "base_uri": "https://localhost:8080/"
        },
        "id": "y-LB6_7kTMDG",
        "outputId": "3dc67af4-4019-46a4-d7ba-33e9ef3863ef"
      },
      "execution_count": 5,
      "outputs": [
        {
          "output_type": "stream",
          "name": "stdout",
          "text": [
            "Hello HCIA PDTP-Huawei Team\n"
          ]
        }
      ]
    },
    {
      "cell_type": "markdown",
      "source": [
        "3) Write a program to define two variables, calculate their sum and display the results"
      ],
      "metadata": {
        "id": "8V9ufKSNDf3Q"
      }
    },
    {
      "cell_type": "code",
      "source": [
        "num1 = 15\n",
        "num2 = 20\n",
        "total = num1+num2\n",
        "print(f' The sum of {num1} and {num2} is {total}')"
      ],
      "metadata": {
        "colab": {
          "base_uri": "https://localhost:8080/"
        },
        "id": "C9zOIeudTyMA",
        "outputId": "712cde86-f183-4cdd-dc21-bb116027e2f7"
      },
      "execution_count": 6,
      "outputs": [
        {
          "output_type": "stream",
          "name": "stdout",
          "text": [
            " The sum of 15 and 20 is 35\n"
          ]
        }
      ]
    },
    {
      "cell_type": "markdown",
      "source": [
        "4)\n",
        "a) Write a program to define a tuple that contains only one element.\n",
        "b) Write a program to define a tuple and then use the 'for loop' to print all the elements."
      ],
      "metadata": {
        "id": "3_yk6ldWEuCc"
      }
    },
    {
      "cell_type": "code",
      "source": [
        "student1 =('George')\n",
        "student2 = (\"Mary\", 25, \"Female\")\n",
        "for item in student2:\n",
        "  print(item)"
      ],
      "metadata": {
        "colab": {
          "base_uri": "https://localhost:8080/"
        },
        "id": "t7xueBh7USFP",
        "outputId": "9d94104f-50d8-4422-fd8a-ffcc154e0259"
      },
      "execution_count": 9,
      "outputs": [
        {
          "output_type": "stream",
          "name": "stdout",
          "text": [
            "Mary\n",
            "25\n",
            "Female\n"
          ]
        }
      ]
    },
    {
      "cell_type": "markdown",
      "source": [
        "5) Write code to create a Python dictionary (the dict type) and print out the details. Add two entries to the dictionary: Associate the key ‘name’ with the value ‘Reagan’, and associate the key ‘phone’ with ‘+254 722 222333’"
      ],
      "metadata": {
        "id": "YfkkjDloE916"
      }
    },
    {
      "cell_type": "code",
      "source": [
        "personal_details = { \"Reagan\": \"+254 722 222333\",\n",
        "                    \"George\": \"+254 712 345678\"}\n",
        "for key, value in personal_details.items():\n",
        "  print(f\"{key}: {value}\")\n",
        "\n",
        ""
      ],
      "metadata": {
        "colab": {
          "base_uri": "https://localhost:8080/"
        },
        "id": "ydgL1g9ifo0y",
        "outputId": "9ab40501-30b3-49f2-8aaf-c5b93c9c0f95"
      },
      "execution_count": 11,
      "outputs": [
        {
          "output_type": "stream",
          "name": "stdout",
          "text": [
            "Reagan: +254 722 222333\n",
            "George: +254 712 345678\n"
          ]
        }
      ]
    },
    {
      "cell_type": "markdown",
      "source": [
        "a) Define a function to do Multiplication, such as Mul(8,6),and it output 42\n"
      ],
      "metadata": {
        "id": "4MQtJR7HFKRn"
      }
    },
    {
      "cell_type": "code",
      "source": [
        "my_dict = {}\n",
        "my_dict['name'] = 'Reagan'\n",
        "my_dict['phone'] = '+254 722 222333'\n",
        "print(my_dict)\n"
      ],
      "metadata": {
        "colab": {
          "base_uri": "https://localhost:8080/"
        },
        "id": "RIlhdJjGi-fS",
        "outputId": "153f6824-25f4-42a8-b303-b6497e7eb3d4"
      },
      "execution_count": 12,
      "outputs": [
        {
          "output_type": "stream",
          "name": "stdout",
          "text": [
            "{'name': 'Reagan', 'phone': '+254 722 222333'}\n"
          ]
        }
      ]
    },
    {
      "cell_type": "code",
      "source": [
        "def Mul(x,y)\n",
        "    return x* y\n",
        "\n",
        "result = Mul(8,6)\n",
        "print(result)\n"
      ],
      "metadata": {
        "colab": {
          "base_uri": "https://localhost:8080/"
        },
        "id": "NXd_FWiQileH",
        "outputId": "a1101637-869c-4349-e7ee-0c383655b9a0"
      },
      "execution_count": 14,
      "outputs": [
        {
          "output_type": "stream",
          "name": "stdout",
          "text": [
            "48\n"
          ]
        }
      ]
    },
    {
      "cell_type": "markdown",
      "source": [
        "b) Complete the function definition so it returns the square of the product of the parameters, so sqrProd(2, 5) returns (2*5)*(2*5) = 100.\n",
        "def sqrProd(x, y):"
      ],
      "metadata": {
        "id": "c_u3H_rkFUuS"
      }
    },
    {
      "cell_type": "code",
      "source": [
        "def sqrProd(x,y):\n",
        "  return (x*y)**2\n",
        "\n",
        "result = sqrProd(2,5)\n",
        "print(result)"
      ],
      "metadata": {
        "colab": {
          "base_uri": "https://localhost:8080/"
        },
        "id": "94BOTd3RSTKT",
        "outputId": "94b9d11b-0b26-415b-ccd7-04ea2b70f30b"
      },
      "execution_count": 16,
      "outputs": [
        {
          "output_type": "stream",
          "name": "stdout",
          "text": [
            "100\n"
          ]
        }
      ]
    },
    {
      "cell_type": "markdown",
      "source": [
        "7) Import numpy and then:\n",
        "a) Use numpy to define an array, the shape of it is (5,5) and all elements of it is 0.\n"
      ],
      "metadata": {
        "id": "OOgUZVALq4fR"
      }
    },
    {
      "cell_type": "code",
      "source": [
        "import numpy as np\n",
        "\n",
        "array_zeros = np.zeros((5,5), dtype=int)\n",
        "print(array_zeros)\n",
        "\n"
      ],
      "metadata": {
        "colab": {
          "base_uri": "https://localhost:8080/"
        },
        "id": "dtkfWIs2nlnD",
        "outputId": "c2c661c0-f627-4601-d066-320a91c5b0bb"
      },
      "execution_count": 18,
      "outputs": [
        {
          "output_type": "stream",
          "name": "stdout",
          "text": [
            "[[0 0 0 0 0]\n",
            " [0 0 0 0 0]\n",
            " [0 0 0 0 0]\n",
            " [0 0 0 0 0]\n",
            " [0 0 0 0 0]]\n"
          ]
        }
      ]
    },
    {
      "cell_type": "markdown",
      "source": [
        " b) Create a 3x3 matrix with values ranging from 0 to 8"
      ],
      "metadata": {
        "id": "tyb2YgDurWtE"
      }
    },
    {
      "cell_type": "code",
      "source": [
        "matrix_values = np.arange(9).reshape(3,3)\n",
        "print(matrix_values)"
      ],
      "metadata": {
        "colab": {
          "base_uri": "https://localhost:8080/"
        },
        "id": "pq0BgqfMrUX-",
        "outputId": "5bd16381-9f23-448f-cad2-ffa5210c6586"
      },
      "execution_count": 19,
      "outputs": [
        {
          "output_type": "stream",
          "name": "stdout",
          "text": [
            "[[0 1 2]\n",
            " [3 4 5]\n",
            " [6 7 8]]\n"
          ]
        }
      ]
    },
    {
      "cell_type": "markdown",
      "source": [
        "c) Find indices of non-zero elements from [1,2,0,0,4,0]"
      ],
      "metadata": {
        "id": "mBLpd6T_sDSY"
      }
    },
    {
      "cell_type": "code",
      "source": [
        "non_zero_indices = np.nonzero([1,2,0,0,4,0])\n",
        "print(non_zero_indices)"
      ],
      "metadata": {
        "colab": {
          "base_uri": "https://localhost:8080/"
        },
        "id": "blNP0QMmsJgZ",
        "outputId": "8fb2dc5b-aa46-4c23-c25c-3e2145a2e9bf"
      },
      "execution_count": 20,
      "outputs": [
        {
          "output_type": "stream",
          "name": "stdout",
          "text": [
            "(array([0, 1, 4]),)\n"
          ]
        }
      ]
    },
    {
      "cell_type": "markdown",
      "source": [
        "d) Create a 10x10 array with random values and find the minimum and maximum values"
      ],
      "metadata": {
        "id": "wI32fQoVtH-z"
      }
    },
    {
      "cell_type": "code",
      "source": [
        "random_array = np.random.randint(low=1, high=100, size=(10,10))\n",
        "min_value = np.min(random_array)\n",
        "max_value = np.max(random_array)\n",
        "print(random_array)\n",
        "print(f\"Minimum value: {min_value}\\nMaximum value: {max_value}\")"
      ],
      "metadata": {
        "colab": {
          "base_uri": "https://localhost:8080/"
        },
        "id": "wT1SygQotOmd",
        "outputId": "4a8c53a5-177b-47be-ba87-ffc31086cbb1"
      },
      "execution_count": 30,
      "outputs": [
        {
          "output_type": "stream",
          "name": "stdout",
          "text": [
            "[[89 23 99 93 20 84 28 10 79 83]\n",
            " [32  2 56 57 88 91 69 11  3 39]\n",
            " [44 37  4 94 62 57 34 17 38 78]\n",
            " [ 5 96  8 73 57 19 23 56  7 11]\n",
            " [50 76 90  4 35 74 18 88 18 90]\n",
            " [65 17 35 86 81 72 13 24 30 53]\n",
            " [29 10 60 44 24 39 68 60 30 26]\n",
            " [55 92 41  6 29 92 47 84 80 41]\n",
            " [ 9 98 82 61 91 42 20 94 47 86]\n",
            " [73 52 27 26 90 57 46 93  4 85]]\n",
            "Minimum value: 2\n",
            "Maximum value: 99\n"
          ]
        }
      ]
    },
    {
      "cell_type": "markdown",
      "source": [
        " e) Create a random vector of size 30 and find the mean value"
      ],
      "metadata": {
        "id": "ybEBoLhNwgZz"
      }
    },
    {
      "cell_type": "code",
      "source": [
        "random_vector = np.random.random(30)\n",
        "mean_value = np.mean(random_vector)\n",
        "print(f\"Mean value: {mean_value}\")"
      ],
      "metadata": {
        "colab": {
          "base_uri": "https://localhost:8080/"
        },
        "id": "fYBpS8Pawh7D",
        "outputId": "10a496ce-c387-4320-8f5b-1ae807d2d966"
      },
      "execution_count": 32,
      "outputs": [
        {
          "output_type": "stream",
          "name": "stdout",
          "text": [
            "Mean value: 0.4688239696584417\n"
          ]
        }
      ]
    },
    {
      "cell_type": "markdown",
      "source": [
        "8) Write a Python program that prompts the user for two numbers, reads them in, and prints out the product, labeled appropriately.\n",
        "9) Complete the code for the following function so it matches its documentation:\n",
        "def doubleList(numberList):\n",
        "For each of the numbers in the list numberList, print a line containing twice the original\n",
        "number. For example,\n",
        "doubleList ([3, 1, 5]) would print 6, 2, 10"
      ],
      "metadata": {
        "id": "AwhE89ffxvUI"
      }
    },
    {
      "cell_type": "code",
      "source": [
        "num1 = float(input(\"Enter the first number: \"))\n",
        "num2 = float(input(\"Enter the second number: \"))\n",
        "product = num1 * num2\n",
        "print(f\"The product of {num1} and {num2} is {product}\")"
      ],
      "metadata": {
        "colab": {
          "base_uri": "https://localhost:8080/"
        },
        "id": "DMrnEqdRxwvV",
        "outputId": "99461ba5-dce5-40f6-8ea9-f2ec38348ed0"
      },
      "execution_count": 33,
      "outputs": [
        {
          "output_type": "stream",
          "name": "stdout",
          "text": [
            "Enter the first number: 12\n",
            "Enter the second number: 13\n",
            "The product of 12.0 and 13.0 is 156.0\n"
          ]
        }
      ]
    },
    {
      "cell_type": "markdown",
      "source": [
        "9) Complete the code for the following function so it matches its documentation: def doubleList(numberList): For each of the numbers in the list numberList, print a line containing twice the original number. For example, doubleList ([3, 1, 5]) would print 6, 2, 10"
      ],
      "metadata": {
        "id": "xDp4Uhcp_p_y"
      }
    },
    {
      "cell_type": "code",
      "source": [
        "def doubleList(numberList):\n",
        "  for num in numberList:\n",
        "    print(2 * num)\n",
        "\n",
        "doubleList([3, 1, 5])\n",
        "\n",
        "\n"
      ],
      "metadata": {
        "colab": {
          "base_uri": "https://localhost:8080/"
        },
        "id": "YAkax0XNAQ5_",
        "outputId": "987e9c8b-d23c-42f3-e602-b2f381b8fb8c"
      },
      "execution_count": 39,
      "outputs": [
        {
          "output_type": "stream",
          "name": "stdout",
          "text": [
            "6\n",
            "2\n",
            "10\n"
          ]
        }
      ]
    },
    {
      "cell_type": "code",
      "source": [],
      "metadata": {
        "id": "t4GvnCaSByfy"
      },
      "execution_count": null,
      "outputs": []
    }
  ]
}